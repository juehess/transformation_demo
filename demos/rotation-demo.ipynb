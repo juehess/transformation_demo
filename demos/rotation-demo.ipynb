{
 "cells": [
  {
   "cell_type": "code",
   "execution_count": 1,
   "id": "64ddd80f",
   "metadata": {
    "hide_input": true,
    "scrolled": false
   },
   "outputs": [
    {
     "data": {
      "application/vnd.jupyter.widget-view+json": {
       "model_id": "c5b52d368fc040be9497b5b462cc74de",
       "version_major": 2,
       "version_minor": 0
      },
      "text/plain": [
       "interactive(children=(IntSlider(value=45, description='theta', max=360, step=5), Output()), _dom_classes=('wid…"
      ]
     },
     "metadata": {},
     "output_type": "display_data"
    }
   ],
   "source": [
    "import ipywidgets as widgets\n",
    "import matplotlib.gridspec as gridspec\n",
    "import matplotlib.pyplot as plt\n",
    "from ipywidgets import interact\n",
    "from matplotlib.patches import Arc\n",
    "import numpy as np\n",
    "\n",
    "plt.rcParams['text.usetex'] = True\n",
    "plt.rcParams['text.latex.preamble'] = r'\\usepackage{amsmath}'\n",
    "plt.rcParams['figure.figsize'] = [10, 4.5]\n",
    "\n",
    "def rotation_matrix(theta):\n",
    "    \"\"\"Returns a 2D rotation matrix for a given angle.\"\"\"\n",
    "    theta_rad = np.radians(theta)\n",
    "    return np.array([[np.cos(theta_rad), -np.sin(theta_rad)],\n",
    "                     [np.sin(theta_rad), np.cos(theta_rad)]])\n",
    "\n",
    "def plot_matrix(ax, mat, color_array):\n",
    "    \"\"\"Plots a matrix on a given axis.\"\"\"\n",
    "    ax.axis('tight')\n",
    "    ax.axis('off')\n",
    "    formatted_mat = [[f'{value:.2f}' for value in row] for row in mat]\n",
    "    table_bbox = [0.38, 0.45, 0.4, 0.2]\n",
    "    tb = ax.table(cellText=formatted_mat, cellColours=color_array,\n",
    "                  loc='center', cellLoc='center', bbox=table_bbox)\n",
    "    tb.auto_set_font_size(False)\n",
    "    tb.set_fontsize(14)\n",
    "    tb.scale(1.2, 1.2)\n",
    "\n",
    "def plot_vectors_and_matrix(theta):\n",
    "    \"\"\"Plots the original and rotated vectors, and the rotation matrix.\"\"\"\n",
    "    i_hat, j_hat = np.array([1, 0]), np.array([0, 1])\n",
    "    R = rotation_matrix(theta)\n",
    "    i_rot, j_rot = np.dot(R, i_hat), np.dot(R, j_hat)\n",
    "    \n",
    "    fig = plt.figure(figsize=(10, 4.5))\n",
    "    gs = gridspec.GridSpec(1, 2, width_ratios=[1, 0.5])  \n",
    "    \n",
    "    ax0 = plt.subplot(gs[0])\n",
    "    ax0.quiver(0, 0, i_hat[0], i_hat[1], angles='xy', scale_units='xy', scale=1, color=(1, 0, 0, 0.3), label='i (Original)', width=0.02)\n",
    "    ax0.quiver(0, 0, j_hat[0], j_hat[1], angles='xy', scale_units='xy', scale=1, color=(0, 1, 0, 0.3), label='j (Original)', width=0.02)\n",
    "    ax0.quiver(0, 0, i_rot[0], i_rot[1], angles='xy', scale_units='xy', scale=1, color='red', label='i (Rotated)', width=0.02)\n",
    "    ax0.quiver(0, 0, j_rot[0], j_rot[1], angles='xy', scale_units='xy', scale=1, color='green', label='j (Rotated)', width=0.02)\n",
    "    \n",
    "    # Adding coordinates\n",
    "    offsets = [(0.15, 0.05), (0.05, -0.15), (-0.15, -0.15), (-0.15, 0.05)]\n",
    "    quad = lambda x, y: 0 if x >= 0 and y >= 0 else 1 if x >= 0 and y < 0 else 2 if x < 0 and y < 0 else 3\n",
    "    offset = offsets[quad(i_rot[0], i_rot[1])]\n",
    "    ax0.text(i_rot[0]+offset[0], 0+offset[1], f'{i_rot[0]:.2f}', fontsize=12, color='red', ha='center', va='center')\n",
    "    ax0.text(0+offset[0], i_rot[1]+offset[1], f'{i_rot[1]:.2f}', fontsize=12, color='red', ha='center', va='center')\n",
    "    \n",
    "    offset = offsets[quad(j_rot[0], j_rot[1])]\n",
    "    ax0.text(j_rot[0]+offset[0], 0+offset[1], f'{j_rot[0]:.2f}', fontsize=12, color='green', ha='center', va='center')\n",
    "    ax0.text(0+offset[0], j_rot[1]+offset[1], f'{j_rot[1]:.2f}', fontsize=12, color='green', ha='center', va='center')\n",
    "        \n",
    "    ax0.add_patch(Arc((0, 0), 0.4, 0.4, theta1=0, theta2=theta, color=\"blue\", lw=1))\n",
    "    ax0.annotate(r'$\\theta$', xy=(0.2, 0.1), fontsize=12, color='blue')\n",
    "    \n",
    "    ax0.plot([i_rot[0], i_rot[0]], [0, i_rot[1]], 'k--')  \n",
    "    ax0.plot([0, i_rot[0]], [i_rot[1], i_rot[1]], 'k--')  \n",
    "    ax0.plot([j_rot[0], j_rot[0]], [0, j_rot[1]], 'k--')  \n",
    "    ax0.plot([0, j_rot[0]], [j_rot[1], j_rot[1]], 'k--')  \n",
    "    ax0.set_xlim(-1.5, 1.5)\n",
    "    ax0.set_ylim(-1.5, 1.5)\n",
    "    ax0.axvline(x=0, color='grey')\n",
    "    ax0.axhline(y=0, color='grey')\n",
    "    ax0.set_title(f\"Rotation by {theta} degrees\")\n",
    "    ax0.grid(True)\n",
    "    ax0.legend()\n",
    "    ax0.set_aspect('equal', adjustable='box')\n",
    "\n",
    "    ax1 = plt.subplot(gs[1])\n",
    "    latex_matrix = r'$R = \\left[\\begin{array}{cc}' + \\\n",
    "                   r'\\cos \\theta & -\\sin \\theta \\\\' + \\\n",
    "                   r'\\sin \\theta & \\cos \\theta' + \\\n",
    "                   r'\\end{array}\\right]$'\n",
    "    ax1.text(0.5, 0.8, latex_matrix, fontsize=16, va='center', ha='center', transform=ax1.transAxes)\n",
    "    color_array = [['red', 'green'], ['red', 'green']]\n",
    "    plot_matrix(ax1, R, color_array)\n",
    "\n",
    "    plt.show()\n",
    "\n",
    "# Interactivity\n",
    "interact(plot_vectors_and_matrix, theta=widgets.IntSlider(min=0, max=360, step=5, value=45));\n"
   ]
  }
 ],
 "metadata": {
  "celltoolbar": "Edit Metadata",
  "kernelspec": {
   "display_name": "Python 3 (ipykernel)",
   "language": "python",
   "name": "python3"
  },
  "language_info": {
   "codemirror_mode": {
    "name": "ipython",
    "version": 3
   },
   "file_extension": ".py",
   "mimetype": "text/x-python",
   "name": "python",
   "nbconvert_exporter": "python",
   "pygments_lexer": "ipython3",
   "version": "3.11.4"
  }
 },
 "nbformat": 4,
 "nbformat_minor": 5
}
