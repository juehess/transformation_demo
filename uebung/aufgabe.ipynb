{
 "cells": [
  {
   "cell_type": "code",
   "execution_count": null,
   "id": "7c64f07a",
   "metadata": {},
   "outputs": [],
   "source": [
    "import matplotlib.pyplot as plt\n",
    "import numpy as np\n",
    "from pytransform3d.transform_manager import TransformManager\n",
    "\n",
    "from util import invert_tf_matrix"
   ]
  },
  {
   "cell_type": "code",
   "execution_count": null,
   "id": "fddfeac6",
   "metadata": {},
   "outputs": [],
   "source": [
    "def plot_frames_in(tm, frame):\n",
    "    ax = tm.plot_frames_in(frame)\n",
    "    ax.set_xlim((-4, 4))\n",
    "    ax.set_ylim((-4, 4))\n",
    "    ax.set_zlim((0, 8))\n",
    "\n",
    "    man = plt.get_current_fig_manager()\n",
    "    man.set_window_title(\"Example\")\n",
    "    plt.show()"
   ]
  },
  {
   "cell_type": "code",
   "execution_count": null,
   "id": "d67bd2a3",
   "metadata": {},
   "outputs": [],
   "source": [
    "tm = TransformManager()\n",
    "\n",
    "# Benutzung des Transform Managers:\n",
    "#     Verwende add_transform(...) um Transformationen zwischen verschiedenen Koordinatensystemen zu registrieren.\n",
    "#       Hinweis: Die ersten beiden Parameter dieser Methode heißen \"from_frame\" und \"to_frame\".\n",
    "#       Wie werden die Transformationen hier interpretiert, \"aktiv\" oder \"passiv\"?\n",
    "#\n",
    "#     Verwende plot_frames_in(...) um die Koordinatensysteme in einem gemeinsamen Referenzrahmen zu visualisieren.\n",
    "#       Hinweis: Obwohl die Darstellung interaktiv ist, könnte das Ändern der Achsenlimits (Zeilen 10-12)\n",
    "#       helfen, alle Koordinatensysteme zu erfassen.\n",
    "#\n",
    "#     Beispiel:\n",
    "\n",
    "world_frame = \"world\"\n",
    "tf_world_world = np.array([[1, 0, 0, 0],\n",
    "                           [0, 1, 0, 0],\n",
    "                           [0, 0, 1, 0],\n",
    "                           [0, 0, 0, 1]])\n",
    "\n",
    "tm.add_transform(world_frame, world_frame, tf_world_world)\n",
    "plot_frames_in(tm, world_frame)\n",
    "\n",
    "# Aufgabe 1.2:\n",
    "#     Erstelle ein zusätzliches Koordinatensystem \"base\", das entlang der x-Achse (rot) des\n",
    "#     \"world\"-Koordinatensystems um +2 Einheiten verschoben ist, ohne jegliche Rotation.\n",
    "#\n",
    "#     Hinweis: Halte ein konsistentes Namensschema ein\n",
    "\n",
    "# ------------------ Dein Code hier ------------------ #\n",
    "\n",
    "# Aufgabe 1.3:\n",
    "#     Erstelle ein zusätzliches Koordinatensystem \"camera\", das entlang der z-Achse (blau) um\n",
    "#     +2 Einheiten verschoben und um +90 Grad um die z-Achse relativ zum \"base\"-Koordinatensystem gedreht ist.\n",
    "#\n",
    "#     Hinweis: Halte ein konsistentes Namensschema ein\n",
    "\n",
    "# ------------------ Dein Code hier ------------------ #\n",
    "\n",
    "# Aufgabe 1.4:\n",
    "#     Erstelle ein zusätzliches Koordinatensystem \"base2\", das genau mit dem \"base\"-Koordinatensystem übereinstimmen sollte. \n",
    "#     Nutze den \"camera\"-Koordinatensystem als Referenz und verwende deine invert_tf_matrix()-Funktion, \n",
    "#     um die Transformation zu berechnen.\n",
    "#\n",
    "#     Hinweis: Halte ein konsistentes Namensschema ein\n",
    "\n",
    "# ------------------ Dein Code hier ------------------ #\n"
   ]
  }
 ],
 "metadata": {
  "kernelspec": {
   "display_name": "Python 3 (ipykernel)",
   "language": "python",
   "name": "python3"
  },
  "language_info": {
   "codemirror_mode": {
    "name": "ipython",
    "version": 3
   },
   "file_extension": ".py",
   "mimetype": "text/x-python",
   "name": "python",
   "nbconvert_exporter": "python",
   "pygments_lexer": "ipython3",
   "version": "3.10.13"
  }
 },
 "nbformat": 4,
 "nbformat_minor": 5
}
